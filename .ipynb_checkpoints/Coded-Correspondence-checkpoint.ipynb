{
 "cells": [
  {
   "cell_type": "code",
   "execution_count": 195,
   "id": "66189f30-c2b3-4e05-967c-3f6ee52f54b1",
   "metadata": {},
   "outputs": [],
   "source": [
    "letters = [\"a\", \"b\", \"c\", \"d\", \"e\", \"f\", \"g\", \"h\", \"i\", \"j\", \"k\", \"l\", \"m\", \"n\", \"o\", \"p\", \"q\", \"r\", \"s\", \"t\", \"u\", \"v\", \"w\", \"x\", \"y\", \"z\"]"
   ]
  },
  {
   "cell_type": "code",
   "execution_count": 197,
   "id": "1e2fa079-9915-423e-9de1-51b312061f63",
   "metadata": {},
   "outputs": [],
   "source": [
    "code = \"hey there! this is an example of a caesar cipher. were you able to decode it? i hope so! send me a message back with the same offset!\""
   ]
  },
  {
   "cell_type": "code",
   "execution_count": 199,
   "id": "ee7c2829-87f0-4998-8634-9e54a833ea9b",
   "metadata": {},
   "outputs": [],
   "source": [
    "offset = 10"
   ]
  },
  {
   "cell_type": "code",
   "execution_count": 201,
   "id": "74c6d120-ee73-4ede-8a02-19e913e6bc6f",
   "metadata": {},
   "outputs": [],
   "source": [
    "#Encode\n",
    "coded = \"\"\n",
    "for i in code:\n",
    "  if i in letters:\n",
    "    index = letters.index(i)\n",
    "    codedIndex = index - offset;\n",
    "    coded = coded + letters[codedIndex]\n",
    "  else:\n",
    "    coded = coded + i\n",
    "\n",
    "code = coded"
   ]
  },
  {
   "cell_type": "code",
   "execution_count": 203,
   "id": "b5058318-5372-4249-a8d0-b2de89beb683",
   "metadata": {},
   "outputs": [
    {
     "data": {
      "text/plain": [
       "'xuo jxuhu! jxyi yi qd unqcfbu ev q squiqh syfxuh. muhu oek qrbu je tusetu yj? y xefu ie! iudt cu q cuiiqwu rqsa myjx jxu iqcu evviuj!'"
      ]
     },
     "execution_count": 203,
     "metadata": {},
     "output_type": "execute_result"
    }
   ],
   "source": [
    "code"
   ]
  },
  {
   "cell_type": "code",
   "execution_count": 205,
   "id": "e7f8be13-3fb7-42bf-99c8-cfb42b050045",
   "metadata": {},
   "outputs": [],
   "source": [
    "uncoded = \"\"\n",
    "#Decode\n",
    "for i in code:\n",
    "  if i in letters:\n",
    "    index = letters.index(i)\n",
    "    uncodedIndex = index + offset;\n",
    "    if uncodedIndex >= len(letters):\n",
    "      uncodedIndex -= len(letters)\n",
    "    uncoded = uncoded + letters[uncodedIndex]\n",
    "  else:\n",
    "    uncoded = uncoded + i\n",
    "\n",
    "code = uncoded"
   ]
  },
  {
   "cell_type": "code",
   "execution_count": 207,
   "id": "f6065d28-38f6-4813-9252-6ebad3c19a36",
   "metadata": {},
   "outputs": [
    {
     "data": {
      "text/plain": [
       "'hey there! this is an example of a caesar cipher. were you able to decode it? i hope so! send me a message back with the same offset!'"
      ]
     },
     "execution_count": 207,
     "metadata": {},
     "output_type": "execute_result"
    }
   ],
   "source": [
    "code"
   ]
  }
 ],
 "metadata": {
  "kernelspec": {
   "display_name": "Python [conda env:base] *",
   "language": "python",
   "name": "conda-base-py"
  },
  "language_info": {
   "codemirror_mode": {
    "name": "ipython",
    "version": 3
   },
   "file_extension": ".py",
   "mimetype": "text/x-python",
   "name": "python",
   "nbconvert_exporter": "python",
   "pygments_lexer": "ipython3",
   "version": "3.12.7"
  }
 },
 "nbformat": 4,
 "nbformat_minor": 5
}
